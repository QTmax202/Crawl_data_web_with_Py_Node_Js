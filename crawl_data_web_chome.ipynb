{
 "cells": [
  {
   "cell_type": "code",
   "execution_count": 49,
   "metadata": {},
   "outputs": [],
   "source": [
    "from selenium import webdriver\n",
    "from selenium.webdriver.chrome.options import Options\n",
    "from selenium.webdriver.common.by import By\n",
    "import time\n",
    "import base64\n",
    "from PIL import Image\n",
    "from io import BytesIO"
   ]
  },
  {
   "cell_type": "code",
   "execution_count": 50,
   "metadata": {},
   "outputs": [],
   "source": [
    "chrome_options = Options()\n",
    "chrome_options.add_argument(\"--incognito\")\n",
    "chrome_options.add_argument(\"--window-size=1920x1080\")"
   ]
  },
  {
   "cell_type": "code",
   "execution_count": 51,
   "metadata": {},
   "outputs": [],
   "source": [
    "# driver = webdriver.Chrome(chrome_options=chrome_options, executable_path=\"D:\\setupD\\drive\\chromedriver.exe\")\n",
    "driver = webdriver.Chrome()\n",
    "\n",
    "url = f'https://ebank.mbbank.com.vn/cp/pl/login?returnUrl=%2F'\n",
    "driver.get(url)\n",
    "time.sleep(3)"
   ]
  },
  {
   "cell_type": "code",
   "execution_count": 61,
   "metadata": {},
   "outputs": [
    {
     "name": "stdout",
     "output_type": "stream",
     "text": [
      "<selenium.webdriver.remote.webelement.WebElement (session=\"d4ac354f244f14d0101174f8f3d932a7\", element=\"199F0B1097D00E9B91913F15B2BB0A80_element_44\")>\n",
      "data:image/png;base64,iVBORw0KGgoAAAANSUhEUgAAAMgAAAAjCAYAAADR20XfAAABuklEQVR42u3avW1CMRRAYTbIDkxBmyI7eQsKalZhiOyQOiOAhIQElh07fvfHF58juQiJUiB/8vOzd1ciqrbjKyACCBFAiABCBBAigBAB5F07pct9EEBE+k0fw2O077R/GZIwANLfZzp0j+VXkN6JvwVIDkMSyQMFQORxACSb/FJ/V8LxFxoesWyB9CJiDzIw8UeA/BcPQPxwAMQQSGvyA2TuxzCAbHh0kggg4ACIAQ6AAMQViAYeSRw1IFqvf4/p52VI9pXO95H//PwZQCYCIr26aJyFlIDk5yMSSEogciyjaJ4hPDCUPlsZhzsQjcPBGgzLA0MpJLWJL7malEAAZKEVRGsVaQHYCqQFQBqI1/5j9pbZg+RQAOILJMLqARCAACQiEM2iAGkhkHqb5QkkQgAJAKT2JisqkCirB0AmB5IjsTgHAQhARP6P1QqinReQKHEXK+gmPSqQSKuHCxDpA8ESgBIEi6smGkBaQwoIV0ucgWifnNeQaF0xqZ2kt34/C5L8WokFkmg43B6xSG4PYvUotmoACYzDcjMPEJoKR++kBwdAlgVidd2EABIeidZbLALI20EhgBBN0Q3taIfQ99a6pAAAAABJRU5ErkJggg==\n"
     ]
    }
   ],
   "source": [
    "# elements = driver.find_elements_by_xpath(\"/html/body/app-root/div/mbb-welcome/div/div/div[2]/div[2]/div/mbb-login/form/div/div[2]/mbb-word-captcha/div/div[2]/div/div/img\")\n",
    "elements = driver.find_elements(By.XPATH, \"/html/body/app-root/div/mbb-welcome/div/div/div[2]/div[2]/div/mbb-login/form/div/div[2]/mbb-word-captcha/div/div[2]/div/div/img\")\n",
    "# elements = driver.find_elements(By.XPATH, '//img')\n",
    "print(elements[0])\n",
    "image_src = elements[0].get_attribute(\"src\")\n",
    "print(image_src)\n",
    "\n",
    "# for img_element in elements:\n",
    "#     print(img_element)\n",
    "#     image_src = img_element.get_attribute(\"src\")\n",
    "#     # image_src = img_element.__getattribute__(\"src\")\n",
    "    # print(image_src)"
   ]
  },
  {
   "cell_type": "code",
   "execution_count": 64,
   "metadata": {},
   "outputs": [
    {
     "data": {
      "image/png": "[encoded data removed]",
      "text/plain": [
       "<PIL.PngImagePlugin.PngImageFile image mode=RGBA size=200x35>"
      ]
     },
     "metadata": {},
     "output_type": "display_data"
    }
   ],
   "source": [
    "base64_array = image_src.split(',')\n",
    "base64_string = base64_array[1]\n",
    "image_data = base64.b64decode(base64_string)\n",
    "image = Image.open(BytesIO(image_data))\n",
    "display(image)\n",
    "# image.show()"
   ]
  }
 ],
 "metadata": {
  "kernelspec": {
   "display_name": "Python 3",
   "language": "python",
   "name": "python3"
  },
  "language_info": {
   "codemirror_mode": {
    "name": "ipython",
    "version": 3
   },
   "file_extension": ".py",
   "mimetype": "text/x-python",
   "name": "python",
   "nbconvert_exporter": "python",
   "pygments_lexer": "ipython3",
   "version": "3.11.2"
  }
 },
 "nbformat": 4,
 "nbformat_minor": 2
}
